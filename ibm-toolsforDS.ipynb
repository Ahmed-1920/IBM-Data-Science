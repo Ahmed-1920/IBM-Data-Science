{
 "cells": [
  {
   "cell_type": "markdown",
   "id": "8e6e8eee-8cd7-42f4-9c97-879c416c0774",
   "metadata": {},
   "source": [
    "# tools for datascience"
   ]
  },
  {
   "cell_type": "markdown",
   "id": "0b3da50f-a4e9-43ee-9154-528701787f99",
   "metadata": {},
   "source": [
    "### introduction. \n",
    "\n",
    "hey this is my submision for this peer graded asignment"
   ]
  },
  {
   "cell_type": "markdown",
   "id": "d07619a4-b37b-4dab-a133-9d0ddbc09668",
   "metadata": {},
   "source": [
    "### data science languages\n",
    "* python\n",
    "* r\n",
    "* sql\n",
    "* julia\n",
    "* java\n",
    "* scala\n",
    "* c++ and c\n",
    "* javascript\n",
    "* sas"
   ]
  },
  {
   "cell_type": "markdown",
   "id": "2a4a16ea-4a31-424b-a67b-5ea93e91d1d6",
   "metadata": {},
   "source": [
    "### data science libraries.\n",
    "* pandas\n",
    "* numpy\n",
    "* matplotlib\n",
    "* sns\n",
    "* tenserflow\n",
    "* sciPy\n",
    "* sikit-learn\n",
    "* keras\n",
    "* ggplot\n",
    "* dplyr\n",
    "* stringr"
   ]
  },
  {
   "cell_type": "markdown",
   "id": "923d3abd-b26a-44b3-aa0d-a4160620e231",
   "metadata": {},
   "source": [
    "### data science tools\n",
    "\n",
    "* jupyter\n",
    "* jupyter lab\n",
    "* anaconda\n",
    "* vs code\n",
    "* rstudio\n",
    "* mysql\n",
    "* tableau\n",
    "* ibm Watson Studio\n",
    "* h2O ai cloud\n",
    "* power bi\n",
    "* apache spark\n",
    "* spss\n",
    "* sas\n",
    "* weka\n"
   ]
  },
  {
   "cell_type": "markdown",
   "id": "c27d7810-1e01-4f83-b253-20cd03976865",
   "metadata": {},
   "source": [
    "### arithmetic expression examples.\n",
    "in python we can do some arithmatic expression like adding, subtracting, dividing and multiplcation"
   ]
  },
  {
   "cell_type": "code",
   "execution_count": 7,
   "id": "335d0355-7a15-474a-a7e3-6293ed9ed880",
   "metadata": {},
   "outputs": [
    {
     "name": "stdout",
     "output_type": "stream",
     "text": [
      "22\n",
      "220\n"
     ]
    }
   ],
   "source": [
    "x = 10\n",
    "y = 12\n",
    "z = x+y\n",
    "print (z)\n",
    "print (z *x )"
   ]
  },
  {
   "cell_type": "code",
   "execution_count": 5,
   "id": "02813b12-717e-4845-bd1b-9902208b5ff3",
   "metadata": {},
   "outputs": [
    {
     "name": "stdout",
     "output_type": "stream",
     "text": [
      "2.0\n"
     ]
    }
   ],
   "source": [
    "def convMinHr(min) :\n",
    "    return (min/60)\n",
    "\n",
    "print(convMinHr(120))"
   ]
  },
  {
   "cell_type": "markdown",
   "id": "f28a7725-7689-4f02-8920-24c249d8fe43",
   "metadata": {},
   "source": [
    "### objectives.\n",
    "\n",
    "gain a better understanding of the work enviroment of a data scientist and all of the languages and tools he uses"
   ]
  },
  {
   "cell_type": "markdown",
   "id": "66b6e5a2-f309-415d-8e81-920f595a385d",
   "metadata": {},
   "source": [
    "### author's name\n",
    "Ahmed Salah"
   ]
  },
  {
   "cell_type": "code",
   "execution_count": null,
   "id": "a9873aad-5dbf-43ae-a009-b84ab364376f",
   "metadata": {},
   "outputs": [],
   "source": []
  }
 ],
 "metadata": {
  "kernelspec": {
   "display_name": "Python 3 (ipykernel)",
   "language": "python",
   "name": "python3"
  },
  "language_info": {
   "codemirror_mode": {
    "name": "ipython",
    "version": 3
   },
   "file_extension": ".py",
   "mimetype": "text/x-python",
   "name": "python",
   "nbconvert_exporter": "python",
   "pygments_lexer": "ipython3",
   "version": "3.10.9"
  }
 },
 "nbformat": 4,
 "nbformat_minor": 5
}
